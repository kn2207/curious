{
 "cells": [
  {
   "cell_type": "code",
   "execution_count": 28,
   "id": "a8cd4ce3",
   "metadata": {},
   "outputs": [],
   "source": [
    "class Shirt:\n",
    "    def __init__(self, s_color, s_size, s_style, s_price):\n",
    "        self.color = s_color\n",
    "        self.size  = s_size\n",
    "        self.style = s_style\n",
    "        self.price = s_price\n",
    "    \n",
    "    def change_price(self,new_price):\n",
    "        self.price = new_price\n",
    "    \n",
    "    def discount(self, discount):\n",
    "        # 100 - (100 * 0.1) = 100 - 10 = 90\n",
    "        # return (self.price - (self.price * discount))\n",
    "        return self.price * (1 - discount)\n",
    "    \n",
    "    def print_ShirtInfo(self):\n",
    "        print(\"#####################################\")\n",
    "        print(\"Color is: \" + self.color)\n",
    "        print(\"Size  is: \" + self.size)\n",
    "        print(\"Style is: \" + self.style)\n",
    "        print(\"Price is:--> $\" + str(self.price))\n",
    "        print(\"#####################################\")"
   ]
  },
  {
   "cell_type": "code",
   "execution_count": 31,
   "id": "dddf1df7",
   "metadata": {},
   "outputs": [
    {
     "name": "stdout",
     "output_type": "stream",
     "text": [
      "Here is the smart shirt!\n",
      "#####################################\n",
      "Color is: Yellow\n",
      "Size  is: Large\n",
      "Style is: Short Sleeve\n",
      "Price is:--> $35\n",
      "#####################################\n"
     ]
    }
   ],
   "source": [
    "new_Shirt = Shirt('Yellow','Large','Short Sleeve',35)\n",
    "\n",
    "#print(\"#####################################\")\n",
    "print(\"Here is the smart shirt!\")\n",
    "new_Shirt.print_ShirtInfo()"
   ]
  },
  {
   "cell_type": "code",
   "execution_count": 32,
   "id": "8a3e7e6f",
   "metadata": {},
   "outputs": [
    {
     "name": "stdout",
     "output_type": "stream",
     "text": [
      "Got lucky - Got a great 25% discount\n",
      "#####################################\n",
      "Color is: Yellow\n",
      "Size  is: Large\n",
      "Style is: Short Sleeve\n",
      "Price is:--> $26.25\n",
      "#####################################\n"
     ]
    }
   ],
   "source": [
    "new_Shirt.price = new_Shirt.discount(.25)\n",
    "#print(chr(10) + \"#####################################\")\n",
    "print(\"Got lucky - Got a great 25% discount\")\n",
    "\n",
    "new_Shirt.print_ShirtInfo()"
   ]
  },
  {
   "cell_type": "code",
   "execution_count": null,
   "id": "074163f7",
   "metadata": {},
   "outputs": [],
   "source": []
  }
 ],
 "metadata": {
  "kernelspec": {
   "display_name": "Python 3 (ipykernel)",
   "language": "python",
   "name": "python3"
  },
  "language_info": {
   "codemirror_mode": {
    "name": "ipython",
    "version": 3
   },
   "file_extension": ".py",
   "mimetype": "text/x-python",
   "name": "python",
   "nbconvert_exporter": "python",
   "pygments_lexer": "ipython3",
   "version": "3.10.9"
  }
 },
 "nbformat": 4,
 "nbformat_minor": 5
}
