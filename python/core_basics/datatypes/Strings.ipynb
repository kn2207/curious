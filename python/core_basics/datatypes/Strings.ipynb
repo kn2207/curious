{
 "cells": [
  {
   "cell_type": "code",
   "execution_count": 1,
   "id": "adea2d07",
   "metadata": {},
   "outputs": [],
   "source": [
    "my_string = \"Edward Jones Jr.\""
   ]
  },
  {
   "cell_type": "code",
   "execution_count": 2,
   "id": "d39d58a0",
   "metadata": {},
   "outputs": [
    {
     "data": {
      "text/plain": [
       "'edward jones jr.'"
      ]
     },
     "execution_count": 2,
     "metadata": {},
     "output_type": "execute_result"
    }
   ],
   "source": [
    "my_string.lower()"
   ]
  },
  {
   "cell_type": "code",
   "execution_count": 3,
   "id": "40d7e00e",
   "metadata": {},
   "outputs": [
    {
     "data": {
      "text/plain": [
       "'EDWARD JONES JR.'"
      ]
     },
     "execution_count": 3,
     "metadata": {},
     "output_type": "execute_result"
    }
   ],
   "source": [
    "my_string.upper()"
   ]
  },
  {
   "cell_type": "code",
   "execution_count": 4,
   "id": "4fa219e1",
   "metadata": {},
   "outputs": [
    {
     "data": {
      "text/plain": [
       "0"
      ]
     },
     "execution_count": 4,
     "metadata": {},
     "output_type": "execute_result"
    }
   ],
   "source": [
    "my_string.count(\"F\")"
   ]
  },
  {
   "cell_type": "code",
   "execution_count": 5,
   "id": "32fd96a1",
   "metadata": {},
   "outputs": [
    {
     "data": {
      "text/plain": [
       "2"
      ]
     },
     "execution_count": 5,
     "metadata": {},
     "output_type": "execute_result"
    }
   ],
   "source": [
    "my_string.count(\" \")"
   ]
  },
  {
   "cell_type": "code",
   "execution_count": 6,
   "id": "d0a9ddb4",
   "metadata": {},
   "outputs": [
    {
     "data": {
      "text/plain": [
       "7"
      ]
     },
     "execution_count": 6,
     "metadata": {},
     "output_type": "execute_result"
    }
   ],
   "source": [
    "my_string.find(\"Jon\")"
   ]
  },
  {
   "cell_type": "code",
   "execution_count": 7,
   "id": "2e1d9ef4",
   "metadata": {},
   "outputs": [
    {
     "data": {
      "text/plain": [
       "7"
      ]
     },
     "execution_count": 7,
     "metadata": {},
     "output_type": "execute_result"
    }
   ],
   "source": [
    "my_string.find(\"J\")"
   ]
  },
  {
   "cell_type": "code",
   "execution_count": 8,
   "id": "0a0c485e",
   "metadata": {},
   "outputs": [
    {
     "data": {
      "text/plain": [
       "7"
      ]
     },
     "execution_count": 8,
     "metadata": {},
     "output_type": "execute_result"
    }
   ],
   "source": [
    "my_string.find(\"J\",2)"
   ]
  },
  {
   "cell_type": "code",
   "execution_count": 10,
   "id": "c98e60ba",
   "metadata": {},
   "outputs": [
    {
     "data": {
      "text/plain": [
       "'Edward Jones Jr.'"
      ]
     },
     "execution_count": 10,
     "metadata": {},
     "output_type": "execute_result"
    }
   ],
   "source": [
    "#the original String is unchanged so far\n",
    "my_string"
   ]
  },
  {
   "cell_type": "code",
   "execution_count": 11,
   "id": "cedcbab6",
   "metadata": {},
   "outputs": [
    {
     "data": {
      "text/plain": [
       "'EDWARD JONES JR.'"
      ]
     },
     "execution_count": 11,
     "metadata": {},
     "output_type": "execute_result"
    }
   ],
   "source": [
    "#the original String is changed!!\n",
    "my_string = my_string.lower().upper()\n",
    "my_string"
   ]
  },
  {
   "cell_type": "markdown",
   "id": "b21151d2",
   "metadata": {},
   "source": [
    "Now Let us learn about one of the string important methods - format()"
   ]
  },
  {
   "cell_type": "code",
   "execution_count": 14,
   "id": "ae5326c8",
   "metadata": {},
   "outputs": [
    {
     "name": "stdout",
     "output_type": "stream",
     "text": [
      "Who is the owner of Edward Jones Investements EJI ?? \n",
      "It is none other than Mr.EDWARD JONES JR.\n"
     ]
    }
   ],
   "source": [
    "print(\"Who is the owner of Edward Jones Investements EJI ?? \" + chr(10) \n",
    "      + \"It is none other than Mr.{}\".format(my_string) )"
   ]
  },
  {
   "cell_type": "code",
   "execution_count": 21,
   "id": "0463b55d",
   "metadata": {},
   "outputs": [
    {
     "ename": "ValueError",
     "evalue": "cannot switch from manual field specification to automatic field numbering",
     "output_type": "error",
     "traceback": [
      "\u001b[0;31m---------------------------------------------------------------------------\u001b[0m",
      "\u001b[0;31mValueError\u001b[0m                                Traceback (most recent call last)",
      "Cell \u001b[0;32mIn[21], line 6\u001b[0m\n\u001b[1;32m      3\u001b[0m c_type2 \u001b[38;5;241m=\u001b[39m \u001b[38;5;124m\"\u001b[39m\u001b[38;5;124mDatabase\u001b[39m\u001b[38;5;124m\"\u001b[39m\n\u001b[1;32m      4\u001b[0m c_type3 \u001b[38;5;241m=\u001b[39m \u001b[38;5;124m\"\u001b[39m\u001b[38;5;124mboth\u001b[39m\u001b[38;5;124m\"\u001b[39m\n\u001b[0;32m----> 6\u001b[0m \u001b[38;5;28mprint\u001b[39m(\u001b[38;5;124;43m\"\u001b[39;49m\u001b[38;5;124;43mIs \u001b[39;49m\u001b[38;5;132;43;01m{0}\u001b[39;49;00m\u001b[38;5;124;43m, a \u001b[39;49m\u001b[38;5;132;43;01m{2}\u001b[39;49;00m\u001b[38;5;124;43m company or \u001b[39;49m\u001b[38;5;132;43;01m{1}\u001b[39;49;00m\u001b[38;5;124;43m company or \u001b[39;49m\u001b[38;5;132;43;01m{}\u001b[39;49;00m\u001b[38;5;124;43m??\u001b[39;49m\u001b[38;5;124;43m\"\u001b[39;49m\u001b[38;5;241;43m.\u001b[39;49m\u001b[43mformat\u001b[49m\u001b[43m(\u001b[49m\u001b[43mcompany\u001b[49m\u001b[43m,\u001b[49m\u001b[43m \u001b[49m\u001b[43mc_type1\u001b[49m\u001b[43m,\u001b[49m\u001b[43m \u001b[49m\u001b[43mc_type2\u001b[49m\u001b[43m,\u001b[49m\u001b[43m \u001b[49m\u001b[43mc_type3\u001b[49m\u001b[43m)\u001b[49m)\n",
      "\u001b[0;31mValueError\u001b[0m: cannot switch from manual field specification to automatic field numbering"
     ]
    }
   ],
   "source": [
    "company = \"Snowflake\"\n",
    "c_type1 = \"SaaS\"\n",
    "c_type2 = \"Database\"\n",
    "c_type3 = \"both\"\n",
    "\n",
    "print(\"Is {0}, a {2} company or {1} company or {}??\".format(company, c_type1, c_type2, c_type3))\n",
    "\n",
    "#Note that you cannot mix notional Vs positional parameters\n",
    "#else you will face the error:\n",
    "#ValueError: cannot switch from manual field specification to automatic field numbering"
   ]
  },
  {
   "cell_type": "code",
   "execution_count": 22,
   "id": "b5d765dc",
   "metadata": {},
   "outputs": [
    {
     "name": "stdout",
     "output_type": "stream",
     "text": [
      "Is Snowflake, a Database company or SaaS company or both??\n"
     ]
    }
   ],
   "source": [
    "company = \"Snowflake\"\n",
    "c_type1 = \"SaaS\"\n",
    "c_type2 = \"Database\"\n",
    "c_type3 = \"both\"\n",
    "\n",
    "print(\"Is {0}, a {2} company or {1} company or {3}??\".format(company, c_type1, c_type2, c_type3))\n",
    "\n",
    "#Note that you cannot mix notional Vs positional parameters\n",
    "#else you will face the error:\n",
    "#ValueError: cannot switch from manual field specification to automatic field numbering"
   ]
  },
  {
   "cell_type": "code",
   "execution_count": null,
   "id": "90db416a",
   "metadata": {},
   "outputs": [],
   "source": []
  }
 ],
 "metadata": {
  "kernelspec": {
   "display_name": "Python 3 (ipykernel)",
   "language": "python",
   "name": "python3"
  },
  "language_info": {
   "codemirror_mode": {
    "name": "ipython",
    "version": 3
   },
   "file_extension": ".py",
   "mimetype": "text/x-python",
   "name": "python",
   "nbconvert_exporter": "python",
   "pygments_lexer": "ipython3",
   "version": "3.10.9"
  }
 },
 "nbformat": 4,
 "nbformat_minor": 5
}
