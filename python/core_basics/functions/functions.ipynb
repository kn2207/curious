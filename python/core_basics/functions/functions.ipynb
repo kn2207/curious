{
 "cells": [
  {
   "cell_type": "code",
   "execution_count": 6,
   "id": "b7557470",
   "metadata": {},
   "outputs": [
    {
     "name": "stdout",
     "output_type": "stream",
     "text": [
      "339.12\n"
     ]
    }
   ],
   "source": [
    "def volume_cone(radius, height):\n",
    "    _PI = 3.14\n",
    "    return 1/3 * _PI * (radius**2) * height\n",
    "\n",
    "print(volume_cone(6,9))"
   ]
  },
  {
   "cell_type": "code",
   "execution_count": 20,
   "id": "1711514f",
   "metadata": {},
   "outputs": [
    {
     "name": "stdout",
     "output_type": "stream",
     "text": [
      "339.12\n",
      "3052.08\n"
     ]
    }
   ],
   "source": [
    "def volume_cone(radius, height=9):\n",
    "    \"\"\" Calculate the volume of cone. Height is defaulted with 9, if not provided\"\"\"\n",
    "    _PI = 3.14\n",
    "    return 1/3 * _PI * (radius**2) * height\n",
    "\n",
    "print(volume_cone(6))\n",
    "print(volume_cone(9,36))"
   ]
  },
  {
   "cell_type": "code",
   "execution_count": 14,
   "id": "b62021d0",
   "metadata": {},
   "outputs": [
    {
     "name": "stdout",
     "output_type": "stream",
     "text": [
      "339.12\n",
      "339.12\n",
      "339.12\n",
      "3052.08\n"
     ]
    }
   ],
   "source": [
    "def volume_cone(radius=6, height=9):\n",
    "    _PI = 3.14\n",
    "    return 1/3 * _PI * (radius**2) * height\n",
    "\n",
    "print(volume_cone())\n",
    "print(volume_cone(height=9))\n",
    "print(volume_cone(radius=6))\n",
    "print(volume_cone(9,36))"
   ]
  },
  {
   "cell_type": "code",
   "execution_count": 15,
   "id": "b34a8924",
   "metadata": {},
   "outputs": [
    {
     "ename": "UnboundLocalError",
     "evalue": "local variable 'egg_count' referenced before assignment",
     "output_type": "error",
     "traceback": [
      "\u001b[0;31m---------------------------------------------------------------------------\u001b[0m",
      "\u001b[0;31mUnboundLocalError\u001b[0m                         Traceback (most recent call last)",
      "Cell \u001b[0;32mIn[15], line 6\u001b[0m\n\u001b[1;32m      3\u001b[0m \u001b[38;5;28;01mdef\u001b[39;00m \u001b[38;5;21mbuy_eggs\u001b[39m():\n\u001b[1;32m      4\u001b[0m     egg_count \u001b[38;5;241m+\u001b[39m\u001b[38;5;241m=\u001b[39m \u001b[38;5;241m12\u001b[39m \u001b[38;5;66;03m# purchase a dozen eggs\u001b[39;00m\n\u001b[0;32m----> 6\u001b[0m \u001b[43mbuy_eggs\u001b[49m\u001b[43m(\u001b[49m\u001b[43m)\u001b[49m\n",
      "Cell \u001b[0;32mIn[15], line 4\u001b[0m, in \u001b[0;36mbuy_eggs\u001b[0;34m()\u001b[0m\n\u001b[1;32m      3\u001b[0m \u001b[38;5;28;01mdef\u001b[39;00m \u001b[38;5;21mbuy_eggs\u001b[39m():\n\u001b[0;32m----> 4\u001b[0m     egg_count \u001b[38;5;241m+\u001b[39m\u001b[38;5;241m=\u001b[39m \u001b[38;5;241m12\u001b[39m\n",
      "\u001b[0;31mUnboundLocalError\u001b[0m: local variable 'egg_count' referenced before assignment"
     ]
    }
   ],
   "source": [
    "egg_count = 0\n",
    "\n",
    "def buy_eggs():\n",
    "    egg_count += 12 # purchase a dozen eggs\n",
    "\n",
    "buy_eggs()"
   ]
  },
  {
   "cell_type": "code",
   "execution_count": 17,
   "id": "5768b92c",
   "metadata": {},
   "outputs": [
    {
     "name": "stdout",
     "output_type": "stream",
     "text": [
      "0\n",
      "0\n"
     ]
    }
   ],
   "source": [
    "egg_count = 0\n",
    "\n",
    "def buy_eggs(egg_count):\n",
    "    egg_count += 12 # purchase a dozen eggs\n",
    "\n",
    "print(egg_count)\n",
    "buy_eggs(egg_count)\n",
    "print(egg_count)"
   ]
  },
  {
   "cell_type": "code",
   "execution_count": 19,
   "id": "9e664f08",
   "metadata": {},
   "outputs": [
    {
     "name": "stdout",
     "output_type": "stream",
     "text": [
      "0\n",
      "12\n"
     ]
    }
   ],
   "source": [
    "egg_count = 0\n",
    "\n",
    "def buy_eggs(count):\n",
    "    return count + 12 # purchase a dozen eggs\n",
    "\n",
    "print(egg_count)\n",
    "egg_count = buy_eggs(egg_count)\n",
    "print(egg_count)"
   ]
  },
  {
   "cell_type": "markdown",
   "id": "5b137757",
   "metadata": {},
   "source": [
    "## Lambda Expressions\n",
    "Lambda expressions are used to create anonymous functions. That is, functions that don’t have a name. \n",
    "They are helpful for creating quick functions that aren’t needed later in the code. \n",
    "This can be especially useful for higher order functions, or functions that take in other functions as arguments."
   ]
  },
  {
   "cell_type": "code",
   "execution_count": 22,
   "id": "3fe8982a",
   "metadata": {},
   "outputs": [
    {
     "data": {
      "text/plain": [
       "15"
      ]
     },
     "execution_count": 22,
     "metadata": {},
     "output_type": "execute_result"
    }
   ],
   "source": [
    "def add(x,y):\n",
    "    \"\"\" Non lambda function\"\"\"\n",
    "    return x + y\n",
    "\n",
    "add(5,10)"
   ]
  },
  {
   "cell_type": "code",
   "execution_count": 24,
   "id": "4be5d0ff",
   "metadata": {},
   "outputs": [
    {
     "data": {
      "text/plain": [
       "20"
      ]
     },
     "execution_count": 24,
     "metadata": {},
     "output_type": "execute_result"
    }
   ],
   "source": [
    "#Lambda function - Syntatic Sugar!!\n",
    "add_lambda = lambda x,y: x+y\n",
    "\n",
    "add_lambda(5,15)"
   ]
  },
  {
   "cell_type": "code",
   "execution_count": 26,
   "id": "64fb1401",
   "metadata": {},
   "outputs": [
    {
     "data": {
      "text/plain": [
       "[62.14, 63.0, 57.57, 40.86]"
      ]
     },
     "execution_count": 26,
     "metadata": {},
     "output_type": "execute_result"
    }
   ],
   "source": [
    "numbers = [\n",
    "              [34, 63, 88, 71, 29, 50, 100],\n",
    "              [90, 78, 51, 27, 45, 50, 100],\n",
    "              [63, 37, 85, 46, 22, 50, 100],\n",
    "              [51, 22, 34, 11, 18, 50, 100]\n",
    "           ]\n",
    "\n",
    "#def mean(num_list):\n",
    "#    return sum(num_list) / len(num_list)\n",
    "\n",
    "mean = lambda x: round(sum(x)/len(x),2)\n",
    "\n",
    "averages = list(map(mean, numbers))\n",
    "\n",
    "averages"
   ]
  },
  {
   "cell_type": "code",
   "execution_count": 31,
   "id": "9163a7f5",
   "metadata": {},
   "outputs": [
    {
     "data": {
      "text/plain": [
       "['New Delhi', 'Chennai', 'Lucknow', 'Kolkatta']"
      ]
     },
     "execution_count": 31,
     "metadata": {},
     "output_type": "execute_result"
    }
   ],
   "source": [
    "cities = [\"New Delhi\", \"Maduraiiiii\", \"Chennai\", \"Lucknow\", \"Kolkatta\", \"Kamalanathan Muni\"]\n",
    "\n",
    "#def is_short(name):\n",
    "#    return len(name) < 10\n",
    "\n",
    "\"\"\"\n",
    "is_short is a lamda function\n",
    "It helps to pick the cities with length less than 10 charace\n",
    "\"\"\"\n",
    "is_short = lambda x: len(x) < 10\n",
    "\n",
    "short_cities = list(filter(is_short, cities))\n",
    "\n",
    "short_cities"
   ]
  }
 ],
 "metadata": {
  "kernelspec": {
   "display_name": "Python 3 (ipykernel)",
   "language": "python",
   "name": "python3"
  },
  "language_info": {
   "codemirror_mode": {
    "name": "ipython",
    "version": 3
   },
   "file_extension": ".py",
   "mimetype": "text/x-python",
   "name": "python",
   "nbconvert_exporter": "python",
   "pygments_lexer": "ipython3",
   "version": "3.10.9"
  }
 },
 "nbformat": 4,
 "nbformat_minor": 5
}
