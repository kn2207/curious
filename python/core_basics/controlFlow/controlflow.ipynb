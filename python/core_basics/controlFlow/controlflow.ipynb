{
 "cells": [
  {
   "cell_type": "markdown",
   "id": "9c67437d",
   "metadata": {},
   "source": [
    "### Control Flow\n",
    "Welcome to Control Flow! \n",
    "\n",
    "Control flow describes the order in which your lines of code are run. This order is usually different than the sequence in which the lines of code appear - Yes you read that correct and lets proceed!"
   ]
  },
  {
   "cell_type": "code",
   "execution_count": 1,
   "id": "6cdf90cf",
   "metadata": {},
   "outputs": [],
   "source": [
    "def qualify_name(name):\n",
    "    if   name == \"Queen\":\n",
    "        print(\"I am the queen!\")\n",
    "    elif name == \"King\":\n",
    "        print(\"I am the King!!\")\n",
    "    elif name == \"Kid1\":\n",
    "        print(\"I am Kid1\")\n",
    "    else:\n",
    "        print(\"I am God\")"
   ]
  },
  {
   "cell_type": "code",
   "execution_count": 2,
   "id": "4551472d",
   "metadata": {},
   "outputs": [
    {
     "name": "stdout",
     "output_type": "stream",
     "text": [
      "I am the King!!\n"
     ]
    }
   ],
   "source": [
    "qualify_name(\"King\")"
   ]
  },
  {
   "cell_type": "code",
   "execution_count": 3,
   "id": "37e7ad4b",
   "metadata": {},
   "outputs": [
    {
     "name": "stdout",
     "output_type": "stream",
     "text": [
      "I am God\n"
     ]
    }
   ],
   "source": [
    "qualify_name(\"Kid\")"
   ]
  },
  {
   "cell_type": "code",
   "execution_count": 4,
   "id": "69061fb4",
   "metadata": {},
   "outputs": [
    {
     "name": "stdout",
     "output_type": "stream",
     "text": [
      "I am Kid1\n"
     ]
    }
   ],
   "source": [
    "qualify_name(\"Kid1\")"
   ]
  },
  {
   "cell_type": "code",
   "execution_count": 5,
   "id": "9d46abcc",
   "metadata": {},
   "outputs": [
    {
     "name": "stdout",
     "output_type": "stream",
     "text": [
      "I am the queen!\n"
     ]
    }
   ],
   "source": [
    "qualify_name(\"Queen\")"
   ]
  },
  {
   "cell_type": "code",
   "execution_count": 6,
   "id": "8c7b95b2",
   "metadata": {},
   "outputs": [
    {
     "name": "stdout",
     "output_type": "stream",
     "text": [
      "I am God\n"
     ]
    }
   ],
   "source": [
    "qualify_name(\"Kid2\")"
   ]
  },
  {
   "cell_type": "code",
   "execution_count": 7,
   "id": "11896194",
   "metadata": {},
   "outputs": [
    {
     "name": "stdout",
     "output_type": "stream",
     "text": [
      "I am God\n"
     ]
    }
   ],
   "source": [
    "qualify_name(\"\")"
   ]
  },
  {
   "cell_type": "code",
   "execution_count": 16,
   "id": "9bebbd9f",
   "metadata": {},
   "outputs": [
    {
     "name": "stdout",
     "output_type": "stream",
     "text": [
      "BMI is :24.6\n",
      "This is considered 'normal'. Please work on keeping it consistent for the lifetime!\n"
     ]
    }
   ],
   "source": [
    "#BMI = kg/m2\n",
    "#kg = kilograms\n",
    "#m  = height in metre\n",
    "\n",
    "kg = 67\n",
    "m  = 1.65\n",
    "\n",
    "bmi = round(kg / (m ** 2),1)\n",
    "\n",
    "print(\"BMI is :\" + str(bmi))\n",
    "\n",
    "if 18.5 <= bmi < 25:\n",
    "    print(\"This is considered 'normal'. Please work on keeping it consistent for the lifetime!\")\n",
    "else:\n",
    "    print(\"Your BMI is outside 18.5 to 25 range. Please big it to normal ASAP- All the best!\")\n"
   ]
  },
  {
   "cell_type": "code",
   "execution_count": 17,
   "id": "2dcdb4f0",
   "metadata": {},
   "outputs": [
    {
     "name": "stdout",
     "output_type": "stream",
     "text": [
      "BMI is :30.5\n",
      "Your BMI is outside 18.5 to 25 range. Please big it to normal ASAP - All the best!\n"
     ]
    }
   ],
   "source": [
    "kg = 83\n",
    "m  = 1.65\n",
    "\n",
    "bmi = round(kg / (m ** 2),1)\n",
    "\n",
    "print(\"BMI is :\" + str(bmi))\n",
    "\n",
    "if 18.5 <= bmi < 25:\n",
    "    print(\"This is considered 'normal'. Please work on keeping it consistent for the lifetime!\")\n",
    "else:\n",
    "    print(\"Your BMI is outside 18.5 to 25 range. Please big it to normal ASAP - All the best!\")"
   ]
  },
  {
   "cell_type": "code",
   "execution_count": 30,
   "id": "efb3c0b7",
   "metadata": {},
   "outputs": [
    {
     "name": "stdout",
     "output_type": "stream",
     "text": [
      "I am hot\n"
     ]
    }
   ],
   "source": [
    "weather = \"cold\"\n",
    "\n",
    "#if a string(non boolean) is used in boolean incorrectly, \n",
    "#it evaluates to true in this case: Be careful!!\n",
    "if weather == \"hot\" or \"0\":\n",
    "    print(\"I am hot\")"
   ]
  },
  {
   "cell_type": "markdown",
   "id": "867c9920",
   "metadata": {},
   "source": [
    "## For Loops"
   ]
  },
  {
   "cell_type": "code",
   "execution_count": 35,
   "id": "46c85189",
   "metadata": {},
   "outputs": [
    {
     "name": "stdout",
     "output_type": "stream",
     "text": [
      "India\n",
      "Usa\n",
      "Canada\n"
     ]
    }
   ],
   "source": [
    "countries = [\"india\", \"USA\", \"cAnada\"]\n",
    "\n",
    "for country in countries:\n",
    "    print(country.title())"
   ]
  },
  {
   "cell_type": "code",
   "execution_count": 36,
   "id": "35de82bf",
   "metadata": {},
   "outputs": [
    {
     "name": "stdout",
     "output_type": "stream",
     "text": [
      "['india', 'USA', 'cAnada', 'Mexico', 'Peru', 'Colombia']\n"
     ]
    }
   ],
   "source": [
    "new_countries = [\"Mexico\",\"peru\", \"colombia\"]\n",
    "\n",
    "for new_country in new_countries:\n",
    "    countries.append(new_country.title())\n",
    "\n",
    "print(countries)"
   ]
  },
  {
   "cell_type": "code",
   "execution_count": 37,
   "id": "9f724f74",
   "metadata": {},
   "outputs": [
    {
     "name": "stdout",
     "output_type": "stream",
     "text": [
      "range(0, 4)\n"
     ]
    }
   ],
   "source": [
    "print(range(4))"
   ]
  },
  {
   "cell_type": "code",
   "execution_count": 38,
   "id": "9558b989",
   "metadata": {},
   "outputs": [
    {
     "data": {
      "text/plain": [
       "range(0, 4)"
      ]
     },
     "execution_count": 38,
     "metadata": {},
     "output_type": "execute_result"
    }
   ],
   "source": [
    "range(4)"
   ]
  },
  {
   "cell_type": "code",
   "execution_count": 39,
   "id": "14ce274a",
   "metadata": {},
   "outputs": [
    {
     "name": "stdout",
     "output_type": "stream",
     "text": [
      "0\n",
      "1\n",
      "2\n",
      "3\n"
     ]
    }
   ],
   "source": [
    "for i in range(4):\n",
    "    print(i)"
   ]
  },
  {
   "cell_type": "code",
   "execution_count": 42,
   "id": "1449fd14",
   "metadata": {},
   "outputs": [
    {
     "name": "stdout",
     "output_type": "stream",
     "text": [
      "10\n",
      "20\n",
      "30\n",
      "40\n",
      "50\n"
     ]
    }
   ],
   "source": [
    "for i in range(0,51,10):\n",
    "    if i: #skips zero\n",
    "        print(i)"
   ]
  },
  {
   "cell_type": "code",
   "execution_count": 43,
   "id": "c7fcd77c",
   "metadata": {},
   "outputs": [
    {
     "name": "stdout",
     "output_type": "stream",
     "text": [
      "['india', 'USA', 'cAnada', 'Mexico', 'Peru', 'Colombia']\n"
     ]
    }
   ],
   "source": [
    "print(countries)"
   ]
  },
  {
   "cell_type": "code",
   "execution_count": 48,
   "id": "11c8f4b3",
   "metadata": {},
   "outputs": [
    {
     "name": "stdout",
     "output_type": "stream",
     "text": [
      "['INDIA', 'USA', 'CANADA', 'MEXICO', 'PERU', 'COLOMBIA']\n"
     ]
    }
   ],
   "source": [
    "for index in range(len(countries)):\n",
    "    countries[index] = countries[index].upper()\n",
    "\n",
    "print(countries)"
   ]
  },
  {
   "cell_type": "code",
   "execution_count": 49,
   "id": "a69b914f",
   "metadata": {},
   "outputs": [
    {
     "name": "stdout",
     "output_type": "stream",
     "text": [
      "[]\n"
     ]
    }
   ],
   "source": [
    "print(list(range(0,-5)))"
   ]
  },
  {
   "cell_type": "code",
   "execution_count": 52,
   "id": "b294bed8",
   "metadata": {},
   "outputs": [],
   "source": [
    "paragraph = \"All he wanted was a candy bar. It didn't seem like a difficult request to comprehend, but the clerk remained frozen and didn't seem to want to honor the request. It might have had something to do with the gun pointed at his face.\""
   ]
  },
  {
   "cell_type": "code",
   "execution_count": 84,
   "id": "fc21c526",
   "metadata": {},
   "outputs": [
    {
     "name": "stdout",
     "output_type": "stream",
     "text": [
      "Original String:\n",
      "All he wanted was a candy bar. It didn't seem like a difficult request to comprehend, but the clerk remained frozen and didn't seem to want to honor the request. It might have had something to do with the gun pointed at his face.\n",
      "\n",
      "String converted to List:\n",
      "['All', 'he', 'wanted', 'was', 'a', 'candy', 'bar.', 'It', \"didn't\", 'seem', 'like', 'a', 'difficult', 'request', 'to', 'comprehend,', 'but', 'the', 'clerk', 'remained', 'frozen', 'and', \"didn't\", 'seem', 'to', 'want', 'to', 'honor', 'the', 'request.', 'It', 'might', 'have', 'had', 'something', 'to', 'do', 'with', 'the', 'gun', 'pointed', 'at', 'his', 'face.']\n",
      "\n",
      "Number of distinct words by count in the paragraph using 'Not in':35\n",
      "\n",
      "Number of distinct words by count in the paragraph using '<dict>.get' :35\n",
      "\n",
      "All : 1\n",
      "he : 1\n",
      "wanted : 1\n",
      "was : 1\n",
      "a : 2\n",
      "candy : 1\n",
      "bar. : 1\n",
      "It : 2\n",
      "didn't : 2\n",
      "seem : 2\n",
      "like : 1\n",
      "difficult : 1\n",
      "request : 1\n",
      "to : 4\n",
      "comprehend, : 1\n",
      "but : 1\n",
      "the : 3\n",
      "clerk : 1\n",
      "remained : 1\n",
      "frozen : 1\n",
      "and : 1\n",
      "want : 1\n",
      "honor : 1\n",
      "request. : 1\n",
      "might : 1\n",
      "have : 1\n",
      "had : 1\n",
      "something : 1\n",
      "do : 1\n",
      "with : 1\n",
      "gun : 1\n",
      "pointed : 1\n",
      "at : 1\n",
      "his : 1\n",
      "face. : 1\n"
     ]
    }
   ],
   "source": [
    "print(\"Original String:\")\n",
    "print(str(paragraph)+ \"\\n\")\n",
    "\n",
    "\n",
    "#convert string to list seperated by space\n",
    "para_list = paragraph.split(\" \")\n",
    "\n",
    "print(\"String converted to List:\")\n",
    "print(str(para_list) + \"\\n\")\n",
    "\n",
    "\n",
    "#word_count\n",
    "word_count = {}\n",
    "#print(type(word_count))\n",
    "\n",
    "# Method one\n",
    "for word in para_list:\n",
    "    #print(word.split(\" \"))\n",
    "    if word not in word_count:\n",
    "        word_count[word] = 1\n",
    "    else:\n",
    "        word_count[word] = word_count[word] + 1\n",
    "\n",
    "print(\"Number of distinct words by count in the paragraph using 'Not in':\" + str(len(word_count)) + \"\\n\")\n",
    "\n",
    "#print(word_count)\n",
    "\n",
    "# Method two\n",
    "word_count = {}\n",
    "for word in para_list:\n",
    "    word_count[word] = word_count.get(word,0) + 1\n",
    "\n",
    "print(\"Number of distinct words by count in the paragraph using '<dict>.get' :\"+ str(len(word_count)) + \"\\n\")\n",
    "\n",
    "#print(word_count)\n",
    "for word, cnt in word_count.items():\n",
    "    print(f\"{word} : {cnt}\")"
   ]
  },
  {
   "cell_type": "code",
   "execution_count": 92,
   "id": "f563496d",
   "metadata": {},
   "outputs": [
    {
     "name": "stdout",
     "output_type": "stream",
     "text": [
      "-1\n",
      "5\n",
      "10\n",
      "14\n",
      "17\n",
      "[-1, 6, 5, 4, 3]\n"
     ]
    }
   ],
   "source": [
    "num_list = [1,2,3,4,5,6,-1]\n",
    "sum_list = []\n",
    "\n",
    "\n",
    "while sum(sum_list) < 15:\n",
    "    sum_list.append(num_list.pop())\n",
    "    print(sum(sum_list))\n",
    "\n",
    "print(sum_list)"
   ]
  },
  {
   "cell_type": "code",
   "execution_count": 105,
   "id": "b0d6164a",
   "metadata": {},
   "outputs": [
    {
     "name": "stdout",
     "output_type": "stream",
     "text": [
      "340 is NOT a prime number, because 2 is a factor of 340\n",
      "3 is a prime number\n",
      "5 is a prime number\n",
      "9 is NOT a prime number, because 3 is a factor of 9\n",
      "7 is a prime number\n",
      "11 is a prime number\n",
      "12 is NOT a prime number, because 2 is a factor of 12\n",
      "12007 is a prime number\n",
      "2 is a prime number\n"
     ]
    }
   ],
   "source": [
    "check_prime = [340, 3, 5, 9, 7, 11,12,12007,2]\n",
    "\n",
    "for num in check_prime:\n",
    "    #print(num)\n",
    "    is_prime = False\n",
    "    for i in range(2,num):\n",
    "        if num%i == 0:\n",
    "            print(f\"{num} is NOT a prime number, because {i} is a factor of {num}\")\n",
    "            is_prime = False\n",
    "            break\n",
    "        else:\n",
    "            is_prime = True\n",
    "    if is_prime or num <=2:\n",
    "        print(f\"{num} is a prime number\")"
   ]
  },
  {
   "cell_type": "markdown",
   "id": "0af45d59",
   "metadata": {},
   "source": [
    "## Enumerate\n",
    "is a built in function that returns an iterator of tuples containing indices and values of a list. "
   ]
  },
  {
   "cell_type": "code",
   "execution_count": 110,
   "id": "a14dc88b",
   "metadata": {},
   "outputs": [
    {
     "name": "stdout",
     "output_type": "stream",
     "text": [
      "Item 1: apple\n",
      "Item 2: mango\n",
      "Item 3: pineapple\n"
     ]
    }
   ],
   "source": [
    "list_of_fruits = [\"apple\", \"mango\", \"pineapple\"]\n",
    "\n",
    "for i, fruit in enumerate(list_of_fruits):\n",
    "    print(f\"Item {i+1}: {fruit}\")"
   ]
  },
  {
   "cell_type": "markdown",
   "id": "a94e15c7",
   "metadata": {},
   "source": [
    "## Zip\n",
    "returns an iterator that combines multiple iterables into one sequence of tuples. Each tuple contains the elements in that position from all the iterables. For example, printing\n",
    "\n",
    "    list(zip(['a', 'b', 'c'], [1, 2, 3])) \n",
    "\n",
    "would output \n",
    "    [('a', 1), ('b', 2), ('c', 3)]"
   ]
  },
  {
   "cell_type": "code",
   "execution_count": 115,
   "id": "a96504df",
   "metadata": {},
   "outputs": [
    {
     "data": {
      "text/plain": [
       "[(1, 'A'), (2, 'Banana'), (3, 'DragonFruit')]"
      ]
     },
     "execution_count": 115,
     "metadata": {},
     "output_type": "execute_result"
    }
   ],
   "source": [
    "indexes = [1,2,3]\n",
    "fruits  = [\"A\", \"Banana\", \"DragonFruit\"]\n",
    "\n",
    "list((zip(indexes,fruits)))"
   ]
  },
  {
   "cell_type": "code",
   "execution_count": 123,
   "id": "65bdf085",
   "metadata": {},
   "outputs": [
    {
     "data": {
      "text/plain": [
       "[(1, 'A'), (2, 'Banana'), (3, 'Brinjal')]"
      ]
     },
     "execution_count": 123,
     "metadata": {},
     "output_type": "execute_result"
    }
   ],
   "source": [
    "indexes = [1,2,3,4,5]\n",
    "fruits  = [\"A\", \"Banana\", \"Brinjal\"]\n",
    "company = [\"jam\",\"fruits\", \"sauce\", \"juice\"]\n",
    "\n",
    "list((zip(indexes,fruits)))"
   ]
  },
  {
   "cell_type": "code",
   "execution_count": 134,
   "id": "2b6f3af4",
   "metadata": {},
   "outputs": [
    {
     "name": "stdout",
     "output_type": "stream",
     "text": [
      "('A', 'B', 'C')\n",
      "('One', 'two', 'three')\n"
     ]
    }
   ],
   "source": [
    "some_list = [('A',\"One\",\"three\"), ['B',\"two\"], ['C', 'three']]\n",
    "letters, nums = zip(*some_list)\n",
    "\n",
    "print(letters)\n",
    "\n",
    "print(nums)"
   ]
  },
  {
   "cell_type": "markdown",
   "id": "5b49a3b0",
   "metadata": {},
   "source": [
    "## List Comprehensions\n",
    "In Python, we can create lists concisely with list comprehensions. One example:"
   ]
  },
  {
   "cell_type": "code",
   "execution_count": 137,
   "id": "355bb0f6",
   "metadata": {},
   "outputs": [
    {
     "name": "stdout",
     "output_type": "stream",
     "text": [
      "List Original: ['Chennai', 'ajmer', 'denVER']\n",
      "List Comprehensed: ['Chennai', 'Ajmer', 'Denver']\n"
     ]
    }
   ],
   "source": [
    "cities = [\"Chennai\", \"ajmer\", \"denVER\"]\n",
    "\n",
    "cities_Cap = [city.title() for city in cities]\n",
    "\n",
    "print(\"List Original: \" + str(cities))\n",
    "print(\"List Comprehensed: \" + str(cities_Cap))"
   ]
  },
  {
   "cell_type": "code",
   "execution_count": 138,
   "id": "e9f429e9",
   "metadata": {},
   "outputs": [
    {
     "name": "stdout",
     "output_type": "stream",
     "text": [
      "[0, 1, 8, 27, 64]\n"
     ]
    }
   ],
   "source": [
    "cubes = [x**3 for x in range(5)]\n",
    "print(cubes)"
   ]
  },
  {
   "cell_type": "code",
   "execution_count": 141,
   "id": "e9838cf4",
   "metadata": {},
   "outputs": [
    {
     "name": "stdout",
     "output_type": "stream",
     "text": [
      "[0, '', 8, '', 64]\n"
     ]
    }
   ],
   "source": [
    "cubes = [x**3 if x%2 == 0 else '' for x in range(5)]\n",
    "print(cubes)"
   ]
  },
  {
   "cell_type": "code",
   "execution_count": 142,
   "id": "c2a5b650",
   "metadata": {},
   "outputs": [
    {
     "name": "stdout",
     "output_type": "stream",
     "text": [
      "[0, 8, 64]\n"
     ]
    }
   ],
   "source": [
    "cubes = [x**3 for x in range(5) if x%2 == 0]\n",
    "print(cubes)"
   ]
  },
  {
   "cell_type": "code",
   "execution_count": null,
   "id": "62e4e57d",
   "metadata": {},
   "outputs": [],
   "source": []
  }
 ],
 "metadata": {
  "kernelspec": {
   "display_name": "Python 3 (ipykernel)",
   "language": "python",
   "name": "python3"
  },
  "language_info": {
   "codemirror_mode": {
    "name": "ipython",
    "version": 3
   },
   "file_extension": ".py",
   "mimetype": "text/x-python",
   "name": "python",
   "nbconvert_exporter": "python",
   "pygments_lexer": "ipython3",
   "version": "3.10.9"
  }
 },
 "nbformat": 4,
 "nbformat_minor": 5
}
