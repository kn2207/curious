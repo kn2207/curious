{
 "cells": [
  {
   "cell_type": "markdown",
   "id": "67efae26",
   "metadata": {},
   "source": [
    "Lets take a deep dive about Python data structures:\n",
    "\n",
    "1. List\n",
    "2. Set\n",
    "3. Tuples\n",
    "4. Dictionary\n",
    "5. Compund Data structures\n",
    "\n",
    "Special ones - two types of operators:#\n",
    "6. membership and\n",
    "7. identity"
   ]
  },
  {
   "cell_type": "code",
   "execution_count": 9,
   "id": "4d8698db",
   "metadata": {},
   "outputs": [],
   "source": [
    "my_list = [ 7, 22.0, \"Great\", True or False]"
   ]
  },
  {
   "cell_type": "code",
   "execution_count": 10,
   "id": "63c414b0",
   "metadata": {},
   "outputs": [
    {
     "data": {
      "text/plain": [
       "[7, 22.0, 'Great', True]"
      ]
     },
     "execution_count": 10,
     "metadata": {},
     "output_type": "execute_result"
    }
   ],
   "source": [
    "my_list"
   ]
  },
  {
   "cell_type": "code",
   "execution_count": 11,
   "id": "af2fb003",
   "metadata": {},
   "outputs": [
    {
     "ename": "IndexError",
     "evalue": "list index out of range",
     "output_type": "error",
     "traceback": [
      "\u001b[0;31m---------------------------------------------------------------------------\u001b[0m",
      "\u001b[0;31mIndexError\u001b[0m                                Traceback (most recent call last)",
      "Cell \u001b[0;32mIn[11], line 1\u001b[0m\n\u001b[0;32m----> 1\u001b[0m \u001b[43mmy_list\u001b[49m\u001b[43m[\u001b[49m\u001b[38;5;241;43m4\u001b[39;49m\u001b[43m]\u001b[49m\n",
      "\u001b[0;31mIndexError\u001b[0m: list index out of range"
     ]
    }
   ],
   "source": [
    "my_list[4]"
   ]
  },
  {
   "cell_type": "code",
   "execution_count": 12,
   "id": "141e9929",
   "metadata": {},
   "outputs": [
    {
     "data": {
      "text/plain": [
       "True"
      ]
     },
     "execution_count": 12,
     "metadata": {},
     "output_type": "execute_result"
    }
   ],
   "source": [
    "my_list[3]"
   ]
  },
  {
   "cell_type": "code",
   "execution_count": 13,
   "id": "52c2c265",
   "metadata": {},
   "outputs": [
    {
     "data": {
      "text/plain": [
       "True"
      ]
     },
     "execution_count": 13,
     "metadata": {},
     "output_type": "execute_result"
    }
   ],
   "source": [
    "my_list[-1]"
   ]
  },
  {
   "cell_type": "code",
   "execution_count": 14,
   "id": "e57744fd",
   "metadata": {},
   "outputs": [
    {
     "data": {
      "text/plain": [
       "'Great'"
      ]
     },
     "execution_count": 14,
     "metadata": {},
     "output_type": "execute_result"
    }
   ],
   "source": [
    "my_list[2]"
   ]
  },
  {
   "cell_type": "code",
   "execution_count": 15,
   "id": "c4212bcc",
   "metadata": {},
   "outputs": [
    {
     "data": {
      "text/plain": [
       "7"
      ]
     },
     "execution_count": 15,
     "metadata": {},
     "output_type": "execute_result"
    }
   ],
   "source": [
    "my_list[-0]"
   ]
  },
  {
   "cell_type": "code",
   "execution_count": 16,
   "id": "07f5979b",
   "metadata": {},
   "outputs": [
    {
     "data": {
      "text/plain": [
       "[7, 22.0, 'Great', True, 7, 22.0, 'Great', True, 7, 22.0, 'Great', True]"
      ]
     },
     "execution_count": 16,
     "metadata": {},
     "output_type": "execute_result"
    }
   ],
   "source": [
    "my_list*3"
   ]
  },
  {
   "cell_type": "code",
   "execution_count": 17,
   "id": "ce04e4db",
   "metadata": {},
   "outputs": [
    {
     "data": {
      "text/plain": [
       "['Jan',\n",
       " 'Feb',\n",
       " 'Mar',\n",
       " 'Apr',\n",
       " 'May',\n",
       " 'Jun',\n",
       " 'Jul',\n",
       " 'Aug',\n",
       " 'Sep',\n",
       " 'Oct',\n",
       " 'Nov',\n",
       " 'Dec']"
      ]
     },
     "execution_count": 17,
     "metadata": {},
     "output_type": "execute_result"
    }
   ],
   "source": [
    "months = [\"Jan\", \"Feb\", \"Mar\", \"Apr\", \"May\", \"Jun\", \"Jul\", \"Aug\", \"Sep\", \"Oct\", \"Nov\", \"Dec\"]\n",
    "months"
   ]
  },
  {
   "cell_type": "code",
   "execution_count": 18,
   "id": "1de6a8bd",
   "metadata": {},
   "outputs": [
    {
     "data": {
      "text/plain": [
       "['Jan', 'Feb', 'Mar', 'Apr', 'May', 'Jun', 'Jul']"
      ]
     },
     "execution_count": 18,
     "metadata": {},
     "output_type": "execute_result"
    }
   ],
   "source": [
    "months[:7]"
   ]
  },
  {
   "cell_type": "code",
   "execution_count": 19,
   "id": "ecfaf9fe",
   "metadata": {},
   "outputs": [
    {
     "data": {
      "text/plain": [
       "['Jan', 'Feb', 'Mar', 'Apr', 'May', 'Jun']"
      ]
     },
     "execution_count": 19,
     "metadata": {},
     "output_type": "execute_result"
    }
   ],
   "source": [
    "months[:6]"
   ]
  },
  {
   "cell_type": "code",
   "execution_count": 21,
   "id": "8b396f60",
   "metadata": {},
   "outputs": [
    {
     "data": {
      "text/plain": [
       "['Jan', 'Feb', 'Mar', 'Apr', 'May']"
      ]
     },
     "execution_count": 21,
     "metadata": {},
     "output_type": "execute_result"
    }
   ],
   "source": [
    "months[0:5]"
   ]
  },
  {
   "cell_type": "code",
   "execution_count": 22,
   "id": "2f643906",
   "metadata": {},
   "outputs": [
    {
     "data": {
      "text/plain": [
       "False"
      ]
     },
     "execution_count": 22,
     "metadata": {},
     "output_type": "execute_result"
    }
   ],
   "source": [
    "\"JAN\" in months"
   ]
  },
  {
   "cell_type": "code",
   "execution_count": 23,
   "id": "bd0bde27",
   "metadata": {},
   "outputs": [
    {
     "data": {
      "text/plain": [
       "True"
      ]
     },
     "execution_count": 23,
     "metadata": {},
     "output_type": "execute_result"
    }
   ],
   "source": [
    "\"Jan\" in months"
   ]
  },
  {
   "cell_type": "code",
   "execution_count": 24,
   "id": "866020c4",
   "metadata": {},
   "outputs": [
    {
     "name": "stdout",
     "output_type": "stream",
     "text": [
      "['Jan', 'Feb', 'Mar', 'Apr', 'May', 'Jun', 'Jul', 'Aug', 'Sep', 'Oct', 'Nov', 'Dec']\n"
     ]
    }
   ],
   "source": [
    "print(months)"
   ]
  },
  {
   "cell_type": "code",
   "execution_count": 25,
   "id": "414a1a9c",
   "metadata": {},
   "outputs": [
    {
     "data": {
      "text/plain": [
       "['Jan',\n",
       " 'Feb',\n",
       " 'Mar',\n",
       " 'Apr',\n",
       " 'May',\n",
       " 'Jun',\n",
       " 'Jul',\n",
       " 'Aug',\n",
       " 'Sep',\n",
       " 'Oct',\n",
       " 'Nov',\n",
       " 'Dec']"
      ]
     },
     "execution_count": 25,
     "metadata": {},
     "output_type": "execute_result"
    }
   ],
   "source": [
    "months"
   ]
  },
  {
   "cell_type": "code",
   "execution_count": 26,
   "id": "88d2d7d3",
   "metadata": {},
   "outputs": [
    {
     "data": {
      "text/plain": [
       "list"
      ]
     },
     "execution_count": 26,
     "metadata": {},
     "output_type": "execute_result"
    }
   ],
   "source": [
    "type(months)"
   ]
  },
  {
   "cell_type": "code",
   "execution_count": 27,
   "id": "2244f959",
   "metadata": {},
   "outputs": [
    {
     "data": {
      "text/plain": [
       "12"
      ]
     },
     "execution_count": 27,
     "metadata": {},
     "output_type": "execute_result"
    }
   ],
   "source": [
    "len(months)"
   ]
  },
  {
   "cell_type": "code",
   "execution_count": 28,
   "id": "22f31450",
   "metadata": {},
   "outputs": [
    {
     "data": {
      "text/plain": [
       "'Sep'"
      ]
     },
     "execution_count": 28,
     "metadata": {},
     "output_type": "execute_result"
    }
   ],
   "source": [
    "max(months)"
   ]
  },
  {
   "cell_type": "code",
   "execution_count": 29,
   "id": "efd4e1ea",
   "metadata": {},
   "outputs": [
    {
     "data": {
      "text/plain": [
       "'Apr'"
      ]
     },
     "execution_count": 29,
     "metadata": {},
     "output_type": "execute_result"
    }
   ],
   "source": [
    "min(months)"
   ]
  },
  {
   "cell_type": "code",
   "execution_count": 33,
   "id": "8b32aed2",
   "metadata": {},
   "outputs": [
    {
     "name": "stdout",
     "output_type": "stream",
     "text": [
      "['Apr', 'Aug', 'Dec', 'Feb', 'Jan', 'Jul', 'Jun', 'Mar', 'May', 'Nov', 'Oct', 'Sep']\n"
     ]
    }
   ],
   "source": [
    "print(sorted(months))"
   ]
  },
  {
   "cell_type": "code",
   "execution_count": 34,
   "id": "d6c8f3e3",
   "metadata": {},
   "outputs": [
    {
     "name": "stdout",
     "output_type": "stream",
     "text": [
      "['Sep', 'Oct', 'Nov', 'May', 'Mar', 'Jun', 'Jul', 'Jan', 'Feb', 'Dec', 'Aug', 'Apr']\n"
     ]
    }
   ],
   "source": [
    "print(sorted(months, reverse = True))"
   ]
  },
  {
   "cell_type": "code",
   "execution_count": 42,
   "id": "4c655267",
   "metadata": {},
   "outputs": [
    {
     "name": "stdout",
     "output_type": "stream",
     "text": [
      "A = ['a', 'b', 'C']\n",
      "B = ['a', 'b', 'C']\n",
      "A = ['A', 'b', 'C']\n",
      "B = ['A', 'b', 'C']\n",
      "A = ['one', 'b', 'C']\n",
      "B = ['one', 'b', 'C']\n"
     ]
    }
   ],
   "source": [
    "A = [\"a\", \"b\", \"C\"]\n",
    "B = A\n",
    "print(\"A = \" + str(A))\n",
    "print(\"B = \" + str(B))\n",
    "B[0] = \"A\"\n",
    "print(\"A = \" + str(A))\n",
    "print(\"B = \" + str(B))\n",
    "A[0] = \"one\"\n",
    "print(\"A = \" + str(A))\n",
    "print(\"B = \" + str(B))"
   ]
  },
  {
   "cell_type": "code",
   "execution_count": 48,
   "id": "90f944cc",
   "metadata": {},
   "outputs": [
    {
     "name": "stdout",
     "output_type": "stream",
     "text": [
      "Naina --> Amma --> Uncle --> Aunty --> me --> Kannama\n"
     ]
    }
   ],
   "source": [
    "family = [\"Naina\", \"Amma\" , \"Uncle\", \"Aunty\", \"me\", \"Kannama\"]\n",
    "print(\" --> \".join(family))"
   ]
  },
  {
   "cell_type": "code",
   "execution_count": 49,
   "id": "4d9c3224",
   "metadata": {},
   "outputs": [
    {
     "name": "stdout",
     "output_type": "stream",
     "text": [
      "Naina --> Amma --> Uncle --> Aunty --> me --> Kannama --> God\n"
     ]
    }
   ],
   "source": [
    "family.append(\"God\")\n",
    "family\n",
    "print(\" --> \".join(family))"
   ]
  },
  {
   "cell_type": "code",
   "execution_count": null,
   "id": "81336d95",
   "metadata": {},
   "outputs": [],
   "source": []
  }
 ],
 "metadata": {
  "kernelspec": {
   "display_name": "Python 3 (ipykernel)",
   "language": "python",
   "name": "python3"
  },
  "language_info": {
   "codemirror_mode": {
    "name": "ipython",
    "version": 3
   },
   "file_extension": ".py",
   "mimetype": "text/x-python",
   "name": "python",
   "nbconvert_exporter": "python",
   "pygments_lexer": "ipython3",
   "version": "3.10.9"
  }
 },
 "nbformat": 4,
 "nbformat_minor": 5
}
