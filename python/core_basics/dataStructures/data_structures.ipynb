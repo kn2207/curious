{
 "cells": [
  {
   "cell_type": "markdown",
   "id": "67efae26",
   "metadata": {},
   "source": [
    "Lets take a deep dive about Python data structures:\n",
    "\n",
    "1. List\n",
    "2. Set\n",
    "3. Tuples\n",
    "4. Dictionary\n",
    "5. Compund Data structures\n",
    "\n",
    "Special ones - two types of operators:#\n",
    "6. membership and\n",
    "7. identity"
   ]
  },
  {
   "cell_type": "markdown",
   "id": "97e5627c",
   "metadata": {},
   "source": [
    "### List"
   ]
  },
  {
   "cell_type": "code",
   "execution_count": 9,
   "id": "4d8698db",
   "metadata": {},
   "outputs": [],
   "source": [
    "my_list = [ 7, 22.0, \"Great\", True or False]"
   ]
  },
  {
   "cell_type": "code",
   "execution_count": 10,
   "id": "63c414b0",
   "metadata": {},
   "outputs": [
    {
     "data": {
      "text/plain": [
       "[7, 22.0, 'Great', True]"
      ]
     },
     "execution_count": 10,
     "metadata": {},
     "output_type": "execute_result"
    }
   ],
   "source": [
    "my_list"
   ]
  },
  {
   "cell_type": "code",
   "execution_count": 11,
   "id": "af2fb003",
   "metadata": {},
   "outputs": [
    {
     "ename": "IndexError",
     "evalue": "list index out of range",
     "output_type": "error",
     "traceback": [
      "\u001b[0;31m---------------------------------------------------------------------------\u001b[0m",
      "\u001b[0;31mIndexError\u001b[0m                                Traceback (most recent call last)",
      "Cell \u001b[0;32mIn[11], line 1\u001b[0m\n\u001b[0;32m----> 1\u001b[0m \u001b[43mmy_list\u001b[49m\u001b[43m[\u001b[49m\u001b[38;5;241;43m4\u001b[39;49m\u001b[43m]\u001b[49m\n",
      "\u001b[0;31mIndexError\u001b[0m: list index out of range"
     ]
    }
   ],
   "source": [
    "my_list[4]"
   ]
  },
  {
   "cell_type": "code",
   "execution_count": 12,
   "id": "141e9929",
   "metadata": {},
   "outputs": [
    {
     "data": {
      "text/plain": [
       "True"
      ]
     },
     "execution_count": 12,
     "metadata": {},
     "output_type": "execute_result"
    }
   ],
   "source": [
    "my_list[3]"
   ]
  },
  {
   "cell_type": "code",
   "execution_count": 13,
   "id": "52c2c265",
   "metadata": {},
   "outputs": [
    {
     "data": {
      "text/plain": [
       "True"
      ]
     },
     "execution_count": 13,
     "metadata": {},
     "output_type": "execute_result"
    }
   ],
   "source": [
    "my_list[-1]"
   ]
  },
  {
   "cell_type": "code",
   "execution_count": 14,
   "id": "e57744fd",
   "metadata": {},
   "outputs": [
    {
     "data": {
      "text/plain": [
       "'Great'"
      ]
     },
     "execution_count": 14,
     "metadata": {},
     "output_type": "execute_result"
    }
   ],
   "source": [
    "my_list[2]"
   ]
  },
  {
   "cell_type": "code",
   "execution_count": 15,
   "id": "c4212bcc",
   "metadata": {},
   "outputs": [
    {
     "data": {
      "text/plain": [
       "7"
      ]
     },
     "execution_count": 15,
     "metadata": {},
     "output_type": "execute_result"
    }
   ],
   "source": [
    "my_list[-0]"
   ]
  },
  {
   "cell_type": "code",
   "execution_count": 16,
   "id": "07f5979b",
   "metadata": {},
   "outputs": [
    {
     "data": {
      "text/plain": [
       "[7, 22.0, 'Great', True, 7, 22.0, 'Great', True, 7, 22.0, 'Great', True]"
      ]
     },
     "execution_count": 16,
     "metadata": {},
     "output_type": "execute_result"
    }
   ],
   "source": [
    "my_list*3"
   ]
  },
  {
   "cell_type": "code",
   "execution_count": 17,
   "id": "ce04e4db",
   "metadata": {},
   "outputs": [
    {
     "data": {
      "text/plain": [
       "['Jan',\n",
       " 'Feb',\n",
       " 'Mar',\n",
       " 'Apr',\n",
       " 'May',\n",
       " 'Jun',\n",
       " 'Jul',\n",
       " 'Aug',\n",
       " 'Sep',\n",
       " 'Oct',\n",
       " 'Nov',\n",
       " 'Dec']"
      ]
     },
     "execution_count": 17,
     "metadata": {},
     "output_type": "execute_result"
    }
   ],
   "source": [
    "months = [\"Jan\", \"Feb\", \"Mar\", \"Apr\", \"May\", \"Jun\", \"Jul\", \"Aug\", \"Sep\", \"Oct\", \"Nov\", \"Dec\"]\n",
    "months"
   ]
  },
  {
   "cell_type": "code",
   "execution_count": 18,
   "id": "1de6a8bd",
   "metadata": {},
   "outputs": [
    {
     "data": {
      "text/plain": [
       "['Jan', 'Feb', 'Mar', 'Apr', 'May', 'Jun', 'Jul']"
      ]
     },
     "execution_count": 18,
     "metadata": {},
     "output_type": "execute_result"
    }
   ],
   "source": [
    "months[:7]"
   ]
  },
  {
   "cell_type": "code",
   "execution_count": 19,
   "id": "ecfaf9fe",
   "metadata": {},
   "outputs": [
    {
     "data": {
      "text/plain": [
       "['Jan', 'Feb', 'Mar', 'Apr', 'May', 'Jun']"
      ]
     },
     "execution_count": 19,
     "metadata": {},
     "output_type": "execute_result"
    }
   ],
   "source": [
    "months[:6]"
   ]
  },
  {
   "cell_type": "code",
   "execution_count": 21,
   "id": "8b396f60",
   "metadata": {},
   "outputs": [
    {
     "data": {
      "text/plain": [
       "['Jan', 'Feb', 'Mar', 'Apr', 'May']"
      ]
     },
     "execution_count": 21,
     "metadata": {},
     "output_type": "execute_result"
    }
   ],
   "source": [
    "months[0:5]"
   ]
  },
  {
   "cell_type": "code",
   "execution_count": 22,
   "id": "2f643906",
   "metadata": {},
   "outputs": [
    {
     "data": {
      "text/plain": [
       "False"
      ]
     },
     "execution_count": 22,
     "metadata": {},
     "output_type": "execute_result"
    }
   ],
   "source": [
    "\"JAN\" in months"
   ]
  },
  {
   "cell_type": "code",
   "execution_count": 23,
   "id": "bd0bde27",
   "metadata": {},
   "outputs": [
    {
     "data": {
      "text/plain": [
       "True"
      ]
     },
     "execution_count": 23,
     "metadata": {},
     "output_type": "execute_result"
    }
   ],
   "source": [
    "\"Jan\" in months"
   ]
  },
  {
   "cell_type": "code",
   "execution_count": 24,
   "id": "866020c4",
   "metadata": {},
   "outputs": [
    {
     "name": "stdout",
     "output_type": "stream",
     "text": [
      "['Jan', 'Feb', 'Mar', 'Apr', 'May', 'Jun', 'Jul', 'Aug', 'Sep', 'Oct', 'Nov', 'Dec']\n"
     ]
    }
   ],
   "source": [
    "print(months)"
   ]
  },
  {
   "cell_type": "code",
   "execution_count": 25,
   "id": "414a1a9c",
   "metadata": {},
   "outputs": [
    {
     "data": {
      "text/plain": [
       "['Jan',\n",
       " 'Feb',\n",
       " 'Mar',\n",
       " 'Apr',\n",
       " 'May',\n",
       " 'Jun',\n",
       " 'Jul',\n",
       " 'Aug',\n",
       " 'Sep',\n",
       " 'Oct',\n",
       " 'Nov',\n",
       " 'Dec']"
      ]
     },
     "execution_count": 25,
     "metadata": {},
     "output_type": "execute_result"
    }
   ],
   "source": [
    "months"
   ]
  },
  {
   "cell_type": "code",
   "execution_count": 26,
   "id": "88d2d7d3",
   "metadata": {},
   "outputs": [
    {
     "data": {
      "text/plain": [
       "list"
      ]
     },
     "execution_count": 26,
     "metadata": {},
     "output_type": "execute_result"
    }
   ],
   "source": [
    "type(months)"
   ]
  },
  {
   "cell_type": "code",
   "execution_count": 27,
   "id": "2244f959",
   "metadata": {},
   "outputs": [
    {
     "data": {
      "text/plain": [
       "12"
      ]
     },
     "execution_count": 27,
     "metadata": {},
     "output_type": "execute_result"
    }
   ],
   "source": [
    "len(months)"
   ]
  },
  {
   "cell_type": "code",
   "execution_count": 28,
   "id": "22f31450",
   "metadata": {},
   "outputs": [
    {
     "data": {
      "text/plain": [
       "'Sep'"
      ]
     },
     "execution_count": 28,
     "metadata": {},
     "output_type": "execute_result"
    }
   ],
   "source": [
    "max(months)"
   ]
  },
  {
   "cell_type": "code",
   "execution_count": 29,
   "id": "efd4e1ea",
   "metadata": {},
   "outputs": [
    {
     "data": {
      "text/plain": [
       "'Apr'"
      ]
     },
     "execution_count": 29,
     "metadata": {},
     "output_type": "execute_result"
    }
   ],
   "source": [
    "min(months)"
   ]
  },
  {
   "cell_type": "code",
   "execution_count": 33,
   "id": "8b32aed2",
   "metadata": {},
   "outputs": [
    {
     "name": "stdout",
     "output_type": "stream",
     "text": [
      "['Apr', 'Aug', 'Dec', 'Feb', 'Jan', 'Jul', 'Jun', 'Mar', 'May', 'Nov', 'Oct', 'Sep']\n"
     ]
    }
   ],
   "source": [
    "print(sorted(months))"
   ]
  },
  {
   "cell_type": "code",
   "execution_count": 34,
   "id": "d6c8f3e3",
   "metadata": {},
   "outputs": [
    {
     "name": "stdout",
     "output_type": "stream",
     "text": [
      "['Sep', 'Oct', 'Nov', 'May', 'Mar', 'Jun', 'Jul', 'Jan', 'Feb', 'Dec', 'Aug', 'Apr']\n"
     ]
    }
   ],
   "source": [
    "print(sorted(months, reverse = True))"
   ]
  },
  {
   "cell_type": "code",
   "execution_count": 42,
   "id": "4c655267",
   "metadata": {},
   "outputs": [
    {
     "name": "stdout",
     "output_type": "stream",
     "text": [
      "A = ['a', 'b', 'C']\n",
      "B = ['a', 'b', 'C']\n",
      "A = ['A', 'b', 'C']\n",
      "B = ['A', 'b', 'C']\n",
      "A = ['one', 'b', 'C']\n",
      "B = ['one', 'b', 'C']\n"
     ]
    }
   ],
   "source": [
    "A = [\"a\", \"b\", \"C\"]\n",
    "B = A\n",
    "print(\"A = \" + str(A))\n",
    "print(\"B = \" + str(B))\n",
    "B[0] = \"A\"\n",
    "print(\"A = \" + str(A))\n",
    "print(\"B = \" + str(B))\n",
    "A[0] = \"one\"\n",
    "print(\"A = \" + str(A))\n",
    "print(\"B = \" + str(B))"
   ]
  },
  {
   "cell_type": "code",
   "execution_count": 48,
   "id": "90f944cc",
   "metadata": {},
   "outputs": [
    {
     "name": "stdout",
     "output_type": "stream",
     "text": [
      "Naina --> Amma --> Uncle --> Aunty --> me --> Kannama\n"
     ]
    }
   ],
   "source": [
    "family = [\"Naina\", \"Amma\" , \"Uncle\", \"Aunty\", \"me\", \"Kannama\"]\n",
    "print(\" --> \".join(family))"
   ]
  },
  {
   "cell_type": "code",
   "execution_count": 49,
   "id": "4d9c3224",
   "metadata": {},
   "outputs": [
    {
     "name": "stdout",
     "output_type": "stream",
     "text": [
      "Naina --> Amma --> Uncle --> Aunty --> me --> Kannama --> God\n"
     ]
    }
   ],
   "source": [
    "family.append(\"God\")\n",
    "family\n",
    "print(\" --> \".join(family))"
   ]
  },
  {
   "cell_type": "markdown",
   "id": "1e53864b",
   "metadata": {},
   "source": [
    "### TUPLES"
   ]
  },
  {
   "cell_type": "code",
   "execution_count": 51,
   "id": "eda3e62c",
   "metadata": {},
   "outputs": [
    {
     "name": "stdout",
     "output_type": "stream",
     "text": [
      "the dimensions are 5 x 6 x 70\n"
     ]
    }
   ],
   "source": [
    "#Define a tuple named dimensions\n",
    "#parenthesis is optional\n",
    "dimensions = 5, 6, 70\n",
    "\n",
    "#Tuple unpacking - technique to unwrap a tuple and assign to scalar values\n",
    "length, breadth, dep = dimensions\n",
    "\n",
    "print(f\"the dimensions are {length} x {breadth} x {dep}\")"
   ]
  },
  {
   "cell_type": "code",
   "execution_count": 60,
   "id": "6ef33ced",
   "metadata": {},
   "outputs": [
    {
     "name": "stdout",
     "output_type": "stream",
     "text": [
      "<class 'tuple'>\n",
      "the dimensions are 70 x 600 x 500\n"
     ]
    }
   ],
   "source": [
    "#Define a tuple named dimensions_2\n",
    "dimensions_2 = 500, 600, 70\n",
    "print(type(dimensions_2))\n",
    "\n",
    "#Tuple unpacking - technique to unwrap a tuple and assign to scalar values\n",
    "length, breadth, dep = dimensions_2\n",
    "\n",
    "print(\"the dimensions are {2} x {1} x {0}\".format(length,breadth,dep))"
   ]
  },
  {
   "cell_type": "markdown",
   "id": "df438d6c",
   "metadata": {},
   "source": [
    "### SETs"
   ]
  },
  {
   "cell_type": "code",
   "execution_count": 77,
   "id": "4767b9b3",
   "metadata": {},
   "outputs": [
    {
     "name": "stdout",
     "output_type": "stream",
     "text": [
      "dimensions_2 is of type:<class 'tuple'>\n",
      "(500, 600, 70)\n",
      "\n",
      "sets_1 is of type:<class 'set'>\n",
      "{600, 500, 70}\n"
     ]
    }
   ],
   "source": [
    "sets_1 = set(dimensions_2)\n",
    "print(\"dimensions_2 is of type:\"+ str(type(dimensions_2)))\n",
    "\n",
    "print(str(dimensions_2) + chr(10))\n",
    "\n",
    "print(\"sets_1 is of type:\"+ str(type(sets_1)))\n",
    "print(sets_1 )"
   ]
  },
  {
   "cell_type": "code",
   "execution_count": 78,
   "id": "d2813aeb",
   "metadata": {},
   "outputs": [
    {
     "name": "stdout",
     "output_type": "stream",
     "text": [
      "Add an element to the set\n",
      "{600, 'Kamal', 500, 70}\n"
     ]
    }
   ],
   "source": [
    "print(\"Add an element to the set\")\n",
    "sets_1.add(\"Kamal\")\n",
    "print(sets_1 )"
   ]
  },
  {
   "cell_type": "code",
   "execution_count": 89,
   "id": "a7405947",
   "metadata": {},
   "outputs": [
    {
     "name": "stdout",
     "output_type": "stream",
     "text": [
      "Remove a random element from the set\n",
      "{'SGSGSGSGSG', 'KlKlKlKlKl'}\n",
      "{'SGSGSGSGSG'}\n"
     ]
    }
   ],
   "source": [
    "print(\"Remove a random element from the set\")\n",
    "\n",
    "# if set is empty, you will face this error\n",
    "# KeyError: 'pop from an empty set'\n",
    "sets_1.add(\"Kl\"*5)\n",
    "sets_1.add(\"SG\"*5 )\n",
    "print(sets_1 )\n",
    "sets_1.pop()\n",
    "print(sets_1 )"
   ]
  },
  {
   "cell_type": "code",
   "execution_count": 91,
   "id": "c3db1c6b",
   "metadata": {},
   "outputs": [
    {
     "name": "stdout",
     "output_type": "stream",
     "text": [
      "{'SGSGSGSGSG', 'KlKlKlKlKl'}\n"
     ]
    }
   ],
   "source": [
    "sets_1.add(\"Kl\"*5)\n",
    "sets_1.add(\"SG\"*5 )\n",
    "print(sets_1 )"
   ]
  },
  {
   "cell_type": "code",
   "execution_count": 98,
   "id": "42e2e10e",
   "metadata": {},
   "outputs": [
    {
     "name": "stdout",
     "output_type": "stream",
     "text": [
      "(500, 600, 70)\n",
      "{'SGSGSGSGSG', 'KlKlKlKlKl'}\n"
     ]
    },
    {
     "data": {
      "text/plain": [
       "{500, 600, 70, 'KlKlKlKlKl', 'SGSGSGSGSG'}"
      ]
     },
     "execution_count": 98,
     "metadata": {},
     "output_type": "execute_result"
    }
   ],
   "source": [
    "print(dimensions_2)\n",
    "sets_1.union(set(dimensions_2))\n",
    "print(sets_1 )\n",
    "sets_1.union((dimensions_2))"
   ]
  },
  {
   "cell_type": "markdown",
   "id": "aaf6e2f2",
   "metadata": {},
   "source": [
    "## Dictionaries"
   ]
  },
  {
   "cell_type": "code",
   "execution_count": 101,
   "id": "e5770155",
   "metadata": {},
   "outputs": [
    {
     "name": "stdout",
     "output_type": "stream",
     "text": [
      "{'Risk': 1, 'Finance': 2, 'Treasury': 3}\n",
      "<class 'dict'>\n"
     ]
    }
   ],
   "source": [
    "department = {\n",
    "    \"Risk\" : 1,\n",
    "    \"Finance\" : 2,\n",
    "    \"Treasury\" : 3\n",
    "}\n",
    "\n",
    "print(department)\n",
    "\n",
    "print(type(department))"
   ]
  },
  {
   "cell_type": "code",
   "execution_count": 103,
   "id": "71a36149",
   "metadata": {},
   "outputs": [
    {
     "name": "stdout",
     "output_type": "stream",
     "text": [
      "{'Risk': 1, 'Finance': 2, 'Treasury': 3, 'Trading': 0}\n"
     ]
    }
   ],
   "source": [
    "department[\"Trading\"] = 0\n",
    "\n",
    "print(department)"
   ]
  },
  {
   "cell_type": "code",
   "execution_count": 104,
   "id": "c0ab6f9c",
   "metadata": {},
   "outputs": [
    {
     "name": "stdout",
     "output_type": "stream",
     "text": [
      "False\n"
     ]
    }
   ],
   "source": [
    "print('risk' in department)"
   ]
  },
  {
   "cell_type": "code",
   "execution_count": 105,
   "id": "0bca201c",
   "metadata": {},
   "outputs": [
    {
     "name": "stdout",
     "output_type": "stream",
     "text": [
      "True\n"
     ]
    }
   ],
   "source": [
    "print('Risk' in department)"
   ]
  },
  {
   "cell_type": "code",
   "execution_count": 106,
   "id": "60d0352e",
   "metadata": {},
   "outputs": [
    {
     "name": "stdout",
     "output_type": "stream",
     "text": [
      "False\n"
     ]
    }
   ],
   "source": [
    "print(1 in department)"
   ]
  },
  {
   "cell_type": "code",
   "execution_count": 107,
   "id": "87170b43",
   "metadata": {},
   "outputs": [
    {
     "name": "stdout",
     "output_type": "stream",
     "text": [
      "0\n"
     ]
    }
   ],
   "source": [
    "# gracious check\n",
    "print(department.get('Trading'))"
   ]
  },
  {
   "cell_type": "code",
   "execution_count": 108,
   "id": "ad29926a",
   "metadata": {},
   "outputs": [
    {
     "name": "stdout",
     "output_type": "stream",
     "text": [
      "None\n"
     ]
    }
   ],
   "source": [
    "# gracious messsage\n",
    "print(department.get('trading'))"
   ]
  },
  {
   "cell_type": "code",
   "execution_count": 109,
   "id": "6859ddff",
   "metadata": {},
   "outputs": [
    {
     "ename": "KeyError",
     "evalue": "'trading'",
     "output_type": "error",
     "traceback": [
      "\u001b[0;31m---------------------------------------------------------------------------\u001b[0m",
      "\u001b[0;31mKeyError\u001b[0m                                  Traceback (most recent call last)",
      "Cell \u001b[0;32mIn[109], line 1\u001b[0m\n\u001b[0;32m----> 1\u001b[0m \u001b[38;5;28mprint\u001b[39m(\u001b[43mdepartment\u001b[49m\u001b[43m[\u001b[49m\u001b[38;5;124;43m'\u001b[39;49m\u001b[38;5;124;43mtrading\u001b[39;49m\u001b[38;5;124;43m'\u001b[39;49m\u001b[43m]\u001b[49m)\n",
      "\u001b[0;31mKeyError\u001b[0m: 'trading'"
     ]
    }
   ],
   "source": [
    "## Not so great - KeyError message is evident\n",
    "print(department['trading'])"
   ]
  },
  {
   "cell_type": "code",
   "execution_count": 110,
   "id": "c4210123",
   "metadata": {},
   "outputs": [
    {
     "name": "stdout",
     "output_type": "stream",
     "text": [
      "0\n"
     ]
    }
   ],
   "source": [
    "print(department['Trading'])"
   ]
  },
  {
   "cell_type": "code",
   "execution_count": 112,
   "id": "009acc11",
   "metadata": {},
   "outputs": [
    {
     "name": "stdout",
     "output_type": "stream",
     "text": [
      "Alright - There is no Trading?? This is not right\n"
     ]
    }
   ],
   "source": [
    "# identity operators\n",
    "# is and is not\n",
    "T_Key   = \"trading\"\n",
    "Trading = department.get(T_Key)\n",
    "\n",
    "#IS\n",
    "if Trading is None:\n",
    "    print(\"Alright - There is no Trading?? This is not right\")\n",
    "else:\n",
    "    print(T_key +\" is the department with ID:\" + str(Trading))"
   ]
  },
  {
   "cell_type": "code",
   "execution_count": 117,
   "id": "7e9e9900",
   "metadata": {},
   "outputs": [
    {
     "name": "stdout",
     "output_type": "stream",
     "text": [
      "Trading is the department with ID:0\n"
     ]
    }
   ],
   "source": [
    "# identity operators\n",
    "# is and is not\n",
    "T_Key   = \"Trading\"\n",
    "Trading = department.get(T_Key)\n",
    "\n",
    "#IS NOT\n",
    "if Trading is not None:\n",
    "    print(T_Key +\" is the department with ID:\" + str(Trading))\n",
    "else:\n",
    "    print(\"Alright - There is no Trading?? This is not right\")"
   ]
  }
 ],
 "metadata": {
  "kernelspec": {
   "display_name": "Python 3 (ipykernel)",
   "language": "python",
   "name": "python3"
  },
  "language_info": {
   "codemirror_mode": {
    "name": "ipython",
    "version": 3
   },
   "file_extension": ".py",
   "mimetype": "text/x-python",
   "name": "python",
   "nbconvert_exporter": "python",
   "pygments_lexer": "ipython3",
   "version": "3.10.9"
  }
 },
 "nbformat": 4,
 "nbformat_minor": 5
}
